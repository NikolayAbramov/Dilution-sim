{
 "cells": [
  {
   "cell_type": "code",
   "execution_count": 63,
   "metadata": {},
   "outputs": [],
   "source": [
    "from numpy import *\n",
    "import scipy.interpolate as si\n",
    "from matplotlib.pyplot import *\n",
    "import scipy.optimize as so"
   ]
  },
  {
   "cell_type": "code",
   "execution_count": 108,
   "metadata": {},
   "outputs": [],
   "source": [
    "flow  = 0.1e-3\n",
    "Tin_c = 0.1\n",
    "Tout_d = 0.1\n",
    "c_Kap_c = 20. #Kapitza coefficient for Cu W/(K^4*m^2)\n",
    "c_Kap_d = 25. #Kapitza coefficient for Cu W/(K^4*m^2)\n",
    "tube_A_d = 26.5 #Cross Section of Dilute Stream [mm^2]\n",
    "tube_A_c = 1.6 #Cross Section of Concentrated Stream [mm^2]\n",
    "Lhex = 0.08 #Length of heat exchanger\n",
    "N = 15 #Number of elements\n",
    "hex_A_c = 1.*Lhex/N #Surface area per element, m^2\n",
    "hex_A_d = 5.*Lhex/N #Surface area per element, m^2\n",
    "Size = 2*N+2 #Problem size\n",
    "cond_coeff_c = N*tube_A_c/Lhex\n",
    "cond_coeff_d = N*tube_A_d/Lhex"
   ]
  },
  {
   "cell_type": "code",
   "execution_count": 109,
   "metadata": {},
   "outputs": [],
   "source": [
    "data = loadtxt('data_tables//concentrated_specific_heat.dat')\n",
    "heat_cap_c = si.interp1d(data[::,0], data[::,1], kind = 'quadratic', bounds_error = False, fill_value=\"extrapolate\")\n",
    "data = loadtxt('data_tables//concentrated_thermal_conductivity.dat')\n",
    "heat_cond_c = si.interp1d(data[::,0], data[::,1], kind = 'quadratic',bounds_error = False, fill_value=\"extrapolate\")\n",
    "data = loadtxt('data_tables//concentrated_viscosity.dat')\n",
    "visc_c = si.interp1d(data[::,0], data[::,1], kind = 'quadratic', bounds_error = False, fill_value=\"extrapolate\")\n",
    "data = loadtxt('data_tables//dilute_thermal_conductivity.dat')\n",
    "heat_cond_d = si.interp1d(data[::,0], data[::,1], kind = 'linear', bounds_error = False, fill_value=\"extrapolate\")\n",
    "data = loadtxt('data_tables//dilute_specific_heat.dat')\n",
    "heat_cap_d = si.interp2d(data[1:,0], data[0,1:],data[1:,1:].T, kind = 'linear', bounds_error = False, fill_value=\"extrapolate\")\n",
    "data = loadtxt('data_tables//dilution_cooling_power.dat')\n",
    "q_dilution = si.interp1d(data[::,0], data[::,1], kind = 'quadratic', bounds_error = False, fill_value=\"extrapolate\")"
   ]
  },
  {
   "cell_type": "code",
   "execution_count": 110,
   "metadata": {},
   "outputs": [],
   "source": [
    "def eq(T):\n",
    "    #Concentrated\n",
    "    i_b = -2\n",
    "    i_mc = -1\n",
    "    res = zeros(Size)\n",
    "    res[0] = flow*( heat_cap_c(Tin_c)*Tin_c - heat_cap_c(T[0])*T[0] )\\\n",
    "            + c_Kap_c*hex_A_c*(T[i_b]**4 - T[0]**4)\n",
    "    res[i_b] += c_Kap_c*hex_A_c*(T[0]**4 - T[i_b]**4)\n",
    "    for i in range(1, N):\n",
    "        res[i] = flow*( heat_cap_c(T[i-1])*T[i-1] - heat_cap_c(T[i])*T[i] )\\\n",
    "               + c_Kap_c*hex_A_c*(T[i_b]**4 - T[i]**4)\n",
    "        res[i_b] += c_Kap_c*hex_A_c*(T[i]**4 - T[i_b]**4)\n",
    "    \n",
    "    res[i_mc] = flow*( heat_cap_c(T[N-1])*T[N-1] - heat_cap_d(T[i_mc], T[i_mc])*T[i_mc] - q_dilution(T[i_mc]) )\n",
    "    \n",
    "    res[N] = flow*( heat_cap_d(T[i_mc], T[i_mc])*T[i_mc] - heat_cap_d(T[N], T[i_mc])*T[N])\\\n",
    "            + c_Kap_d*hex_A_d*(T[i_b]**4 - T[N]**4)\n",
    "    res[i_b] += c_Kap_d*hex_A_d*(T[N]**4 - T[i_b]**4)\n",
    "    for i in range(N+1, 2*N):\n",
    "        res[i] = flow*( heat_cap_d(T[i-1], T[i_mc])*T[i-1] - heat_cap_d(T[i],T[i_mc])*T[i] )\\\n",
    "               + c_Kap_d*hex_A_d*(T[i_b]**4 - T[i]**4)\n",
    "        res[i_b] += c_Kap_d*hex_A_d*(T[i]**4 - T[i_b]**4)\n",
    "          \n",
    "    return res"
   ]
  },
  {
   "cell_type": "code",
   "execution_count": 111,
   "metadata": {},
   "outputs": [
    {
     "data": {
      "text/plain": [
       "array([0.08373361, 0.07398377, 0.06754668, 0.06279793, 0.05907199,\n",
       "       0.05604742, 0.05355313, 0.05147852, 0.0497495 , 0.04830033,\n",
       "       0.0470865 , 0.04606247, 0.04520222, 0.04447514, 0.04386193,\n",
       "       0.01999197, 0.02285569, 0.02552024, 0.02783917, 0.02973069,\n",
       "       0.03132174, 0.03269167, 0.03384111, 0.03481415, 0.03564576,\n",
       "       0.03635579, 0.03696139, 0.03747728, 0.03791635, 0.03828984,\n",
       "       0.04039265, 0.01570404])"
      ]
     },
     "execution_count": 111,
     "metadata": {},
     "output_type": "execute_result"
    }
   ],
   "source": [
    "sol = so.newton_krylov(eq, Tin_c*ones(Size))\n",
    "sol"
   ]
  },
  {
   "cell_type": "code",
   "execution_count": 113,
   "metadata": {},
   "outputs": [
    {
     "data": {
      "image/png": "[encoded data removed]",
      "text/plain": [
       "<Figure size 432x288 with 1 Axes>"
      ]
     },
     "metadata": {
      "needs_background": "light"
     },
     "output_type": "display_data"
    }
   ],
   "source": [
    "ym=1e3\n",
    "xm = 1e3\n",
    "x = linspace(0,Lhex*xm, N)\n",
    "plot(x,sol[:N]*ym, 'o', label = \"He3 in\")\n",
    "plot(x,sol[N:2*N]*ym, 'o', label = \"He3-He4 out\")\n",
    "plot( x,ones(N)*sol[-2]*ym, label = \"Heat exchanger body\")\n",
    "plot( x,ones(N)*sol[-1]*ym, label = \"Mixing chamber\")\n",
    "ylabel(\"T, mK\")\n",
    "xlabel(\"Length, mm\")\n",
    "ylim([0,100])\n",
    "legend()\n",
    "grid()\n",
    "tight_layout()\n",
    "savefig(\"single_stage_hex.png\", dpi = 300)"
   ]
  },
  {
   "cell_type": "code",
   "execution_count": 45,
   "metadata": {},
   "outputs": [
    {
     "data": {
      "text/plain": [
       "[<matplotlib.lines.Line2D at 0x1461a5b0>]"
      ]
     },
     "execution_count": 45,
     "metadata": {},
     "output_type": "execute_result"
    },
    {
     "data": {
      "image/png": "[encoded data removed]",
      "text/plain": [
       "<Figure size 432x288 with 1 Axes>"
      ]
     },
     "metadata": {
      "needs_background": "light"
     },
     "output_type": "display_data"
    }
   ],
   "source": [
    "plot(data[::,0], data[::,1],'o')\n",
    "x = arange(0, 1, 0.001)\n",
    "plot(x, heat_cond_d(x))\n"
   ]
  },
  {
   "cell_type": "code",
   "execution_count": null,
   "metadata": {},
   "outputs": [],
   "source": []
  }
 ],
 "metadata": {
  "kernelspec": {
   "display_name": "Python 3",
   "language": "python",
   "name": "python3"
  },
  "language_info": {
   "codemirror_mode": {
    "name": "ipython",
    "version": 3
   },
   "file_extension": ".py",
   "mimetype": "text/x-python",
   "name": "python",
   "nbconvert_exporter": "python",
   "pygments_lexer": "ipython3",
   "version": "3.8.3"
  }
 },
 "nbformat": 4,
 "nbformat_minor": 4
}
